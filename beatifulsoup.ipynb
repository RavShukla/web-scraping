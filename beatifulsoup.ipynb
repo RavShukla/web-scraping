{
 "cells": [
  {
   "cell_type": "code",
   "execution_count": 23,
   "id": "1519e81c-8e97-4627-af40-4f987f14e920",
   "metadata": {},
   "outputs": [],
   "source": [
    "from bs4 import BeautifulSoup\n",
    "import requests\n",
    "\n",
    "with open(\"htmls/page.html\") as f :\n",
    "    content=f.read()"
   ]
  },
  {
   "cell_type": "code",
   "execution_count": 6,
   "id": "d7234d44-4d5e-4cc1-9e68-b81532be3261",
   "metadata": {},
   "outputs": [],
   "source": [
    "soup = BeautifulSoup(content,\"html.parser\")"
   ]
  },
  {
   "cell_type": "code",
   "execution_count": 13,
   "id": "15ccf2d5-5a8b-4587-9204-532fa590b2a3",
   "metadata": {},
   "outputs": [
    {
     "data": {
      "text/plain": [
       "[]"
      ]
     },
     "execution_count": 13,
     "metadata": {},
     "output_type": "execute_result"
    }
   ],
   "source": [
    "h3s=soup.find_all(\"h3\")\n",
    "h3s"
   ]
  },
  {
   "cell_type": "code",
   "execution_count": 25,
   "id": "6d681f8d-d6a0-400b-b2e6-d3b80fb5ff76",
   "metadata": {},
   "outputs": [],
   "source": [
    "for h3 in h3s:\n",
    "    print(h3.find(\"a\")['title'])"
   ]
  },
  {
   "cell_type": "code",
   "execution_count": 19,
   "id": "b30267b7-7ee3-4e1e-a37c-cd5d328ff946",
   "metadata": {},
   "outputs": [],
   "source": [
    "articles = soup.select(\"articles.product_pod\")"
   ]
  },
  {
   "cell_type": "code",
   "execution_count": 26,
   "id": "172b8068-b760-4ff2-9007-32b0b9f1dcb9",
   "metadata": {},
   "outputs": [
    {
     "data": {
      "text/plain": [
       "[]"
      ]
     },
     "execution_count": 26,
     "metadata": {},
     "output_type": "execute_result"
    }
   ],
   "source": [
    "articles"
   ]
  },
  {
   "cell_type": "code",
   "execution_count": 27,
   "id": "f71f35c2-e066-4049-a8cd-6ddec5a6bdd3",
   "metadata": {},
   "outputs": [],
   "source": [
    "for article in articles:\n",
    "    title = article.find(\"h3\").find(\"a\")['title']\n",
    "    price=article.select_one(\"p.price_color\")  "
   ]
  },
  {
   "cell_type": "code",
   "execution_count": null,
   "id": "957e8ca3-8a59-40d1-9168-4ad0d35f511c",
   "metadata": {},
   "outputs": [],
   "source": []
  }
 ],
 "metadata": {
  "kernelspec": {
   "display_name": "Python 3 (ipykernel)",
   "language": "python",
   "name": "python3"
  },
  "language_info": {
   "codemirror_mode": {
    "name": "ipython",
    "version": 3
   },
   "file_extension": ".py",
   "mimetype": "text/x-python",
   "name": "python",
   "nbconvert_exporter": "python",
   "pygments_lexer": "ipython3",
   "version": "3.13.5"
  }
 },
 "nbformat": 4,
 "nbformat_minor": 5
}
